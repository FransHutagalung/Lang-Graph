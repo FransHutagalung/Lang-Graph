{
  "nbformat": 4,
  "nbformat_minor": 0,
  "metadata": {
    "colab": {
      "provenance": [],
      "authorship_tag": "ABX9TyOn8XOFunZGVl+nqu35fCCF",
      "include_colab_link": true
    },
    "kernelspec": {
      "name": "python3",
      "display_name": "Python 3"
    },
    "language_info": {
      "name": "python"
    }
  },
  "cells": [
    {
      "cell_type": "markdown",
      "metadata": {
        "id": "view-in-github",
        "colab_type": "text"
      },
      "source": [
        "<a href=\"https://colab.research.google.com/github/FransHutagalung/Lang-Graph/blob/main/Langgraph.ipynb\" target=\"_parent\"><img src=\"https://colab.research.google.com/assets/colab-badge.svg\" alt=\"Open In Colab\"/></a>"
      ]
    },
    {
      "source": [
        "!pip install langgraph"
      ],
      "cell_type": "code",
      "metadata": {
        "colab": {
          "base_uri": "https://localhost:8080/"
        },
        "id": "_W0iSRKwmw7a",
        "outputId": "2f6d92a4-d944-4a53-b794-4c06dd83e4ad"
      },
      "execution_count": 1,
      "outputs": [
        {
          "output_type": "stream",
          "name": "stdout",
          "text": [
            "Collecting langgraph\n",
            "  Downloading langgraph-0.4.7-py3-none-any.whl.metadata (6.8 kB)\n",
            "Requirement already satisfied: langchain-core>=0.1 in /usr/local/lib/python3.11/dist-packages (from langgraph) (0.3.60)\n",
            "Collecting langgraph-checkpoint>=2.0.26 (from langgraph)\n",
            "  Downloading langgraph_checkpoint-2.0.26-py3-none-any.whl.metadata (4.6 kB)\n",
            "Collecting langgraph-prebuilt>=0.2.0 (from langgraph)\n",
            "  Downloading langgraph_prebuilt-0.2.2-py3-none-any.whl.metadata (4.5 kB)\n",
            "Collecting langgraph-sdk>=0.1.42 (from langgraph)\n",
            "  Downloading langgraph_sdk-0.1.70-py3-none-any.whl.metadata (1.5 kB)\n",
            "Requirement already satisfied: pydantic>=2.7.4 in /usr/local/lib/python3.11/dist-packages (from langgraph) (2.11.4)\n",
            "Requirement already satisfied: xxhash>=3.5.0 in /usr/local/lib/python3.11/dist-packages (from langgraph) (3.5.0)\n",
            "Requirement already satisfied: langsmith<0.4,>=0.1.126 in /usr/local/lib/python3.11/dist-packages (from langchain-core>=0.1->langgraph) (0.3.42)\n",
            "Requirement already satisfied: tenacity!=8.4.0,<10.0.0,>=8.1.0 in /usr/local/lib/python3.11/dist-packages (from langchain-core>=0.1->langgraph) (9.1.2)\n",
            "Requirement already satisfied: jsonpatch<2.0,>=1.33 in /usr/local/lib/python3.11/dist-packages (from langchain-core>=0.1->langgraph) (1.33)\n",
            "Requirement already satisfied: PyYAML>=5.3 in /usr/local/lib/python3.11/dist-packages (from langchain-core>=0.1->langgraph) (6.0.2)\n",
            "Requirement already satisfied: packaging<25,>=23.2 in /usr/local/lib/python3.11/dist-packages (from langchain-core>=0.1->langgraph) (24.2)\n",
            "Requirement already satisfied: typing-extensions>=4.7 in /usr/local/lib/python3.11/dist-packages (from langchain-core>=0.1->langgraph) (4.13.2)\n",
            "Collecting ormsgpack<2.0.0,>=1.8.0 (from langgraph-checkpoint>=2.0.26->langgraph)\n",
            "  Downloading ormsgpack-1.10.0-cp311-cp311-manylinux_2_17_x86_64.manylinux2014_x86_64.whl.metadata (43 kB)\n",
            "\u001b[2K     \u001b[90m━━━━━━━━━━━━━━━━━━━━━━━━━━━━━━━━━━━━━━━━\u001b[0m \u001b[32m43.7/43.7 kB\u001b[0m \u001b[31m1.6 MB/s\u001b[0m eta \u001b[36m0:00:00\u001b[0m\n",
            "\u001b[?25hRequirement already satisfied: httpx>=0.25.2 in /usr/local/lib/python3.11/dist-packages (from langgraph-sdk>=0.1.42->langgraph) (0.28.1)\n",
            "Requirement already satisfied: orjson>=3.10.1 in /usr/local/lib/python3.11/dist-packages (from langgraph-sdk>=0.1.42->langgraph) (3.10.18)\n",
            "Requirement already satisfied: annotated-types>=0.6.0 in /usr/local/lib/python3.11/dist-packages (from pydantic>=2.7.4->langgraph) (0.7.0)\n",
            "Requirement already satisfied: pydantic-core==2.33.2 in /usr/local/lib/python3.11/dist-packages (from pydantic>=2.7.4->langgraph) (2.33.2)\n",
            "Requirement already satisfied: typing-inspection>=0.4.0 in /usr/local/lib/python3.11/dist-packages (from pydantic>=2.7.4->langgraph) (0.4.1)\n",
            "Requirement already satisfied: anyio in /usr/local/lib/python3.11/dist-packages (from httpx>=0.25.2->langgraph-sdk>=0.1.42->langgraph) (4.9.0)\n",
            "Requirement already satisfied: certifi in /usr/local/lib/python3.11/dist-packages (from httpx>=0.25.2->langgraph-sdk>=0.1.42->langgraph) (2025.4.26)\n",
            "Requirement already satisfied: httpcore==1.* in /usr/local/lib/python3.11/dist-packages (from httpx>=0.25.2->langgraph-sdk>=0.1.42->langgraph) (1.0.9)\n",
            "Requirement already satisfied: idna in /usr/local/lib/python3.11/dist-packages (from httpx>=0.25.2->langgraph-sdk>=0.1.42->langgraph) (3.10)\n",
            "Requirement already satisfied: h11>=0.16 in /usr/local/lib/python3.11/dist-packages (from httpcore==1.*->httpx>=0.25.2->langgraph-sdk>=0.1.42->langgraph) (0.16.0)\n",
            "Requirement already satisfied: jsonpointer>=1.9 in /usr/local/lib/python3.11/dist-packages (from jsonpatch<2.0,>=1.33->langchain-core>=0.1->langgraph) (3.0.0)\n",
            "Requirement already satisfied: requests<3,>=2 in /usr/local/lib/python3.11/dist-packages (from langsmith<0.4,>=0.1.126->langchain-core>=0.1->langgraph) (2.32.3)\n",
            "Requirement already satisfied: requests-toolbelt<2.0.0,>=1.0.0 in /usr/local/lib/python3.11/dist-packages (from langsmith<0.4,>=0.1.126->langchain-core>=0.1->langgraph) (1.0.0)\n",
            "Requirement already satisfied: zstandard<0.24.0,>=0.23.0 in /usr/local/lib/python3.11/dist-packages (from langsmith<0.4,>=0.1.126->langchain-core>=0.1->langgraph) (0.23.0)\n",
            "Requirement already satisfied: charset-normalizer<4,>=2 in /usr/local/lib/python3.11/dist-packages (from requests<3,>=2->langsmith<0.4,>=0.1.126->langchain-core>=0.1->langgraph) (3.4.2)\n",
            "Requirement already satisfied: urllib3<3,>=1.21.1 in /usr/local/lib/python3.11/dist-packages (from requests<3,>=2->langsmith<0.4,>=0.1.126->langchain-core>=0.1->langgraph) (2.4.0)\n",
            "Requirement already satisfied: sniffio>=1.1 in /usr/local/lib/python3.11/dist-packages (from anyio->httpx>=0.25.2->langgraph-sdk>=0.1.42->langgraph) (1.3.1)\n",
            "Downloading langgraph-0.4.7-py3-none-any.whl (154 kB)\n",
            "\u001b[2K   \u001b[90m━━━━━━━━━━━━━━━━━━━━━━━━━━━━━━━━━━━━━━━━\u001b[0m \u001b[32m154.9/154.9 kB\u001b[0m \u001b[31m5.9 MB/s\u001b[0m eta \u001b[36m0:00:00\u001b[0m\n",
            "\u001b[?25hDownloading langgraph_checkpoint-2.0.26-py3-none-any.whl (44 kB)\n",
            "\u001b[2K   \u001b[90m━━━━━━━━━━━━━━━━━━━━━━━━━━━━━━━━━━━━━━━━\u001b[0m \u001b[32m44.2/44.2 kB\u001b[0m \u001b[31m2.7 MB/s\u001b[0m eta \u001b[36m0:00:00\u001b[0m\n",
            "\u001b[?25hDownloading langgraph_prebuilt-0.2.2-py3-none-any.whl (23 kB)\n",
            "Downloading langgraph_sdk-0.1.70-py3-none-any.whl (49 kB)\n",
            "\u001b[2K   \u001b[90m━━━━━━━━━━━━━━━━━━━━━━━━━━━━━━━━━━━━━━━━\u001b[0m \u001b[32m50.0/50.0 kB\u001b[0m \u001b[31m3.5 MB/s\u001b[0m eta \u001b[36m0:00:00\u001b[0m\n",
            "\u001b[?25hDownloading ormsgpack-1.10.0-cp311-cp311-manylinux_2_17_x86_64.manylinux2014_x86_64.whl (216 kB)\n",
            "\u001b[2K   \u001b[90m━━━━━━━━━━━━━━━━━━━━━━━━━━━━━━━━━━━━━━━━\u001b[0m \u001b[32m216.5/216.5 kB\u001b[0m \u001b[31m14.4 MB/s\u001b[0m eta \u001b[36m0:00:00\u001b[0m\n",
            "\u001b[?25hInstalling collected packages: ormsgpack, langgraph-sdk, langgraph-checkpoint, langgraph-prebuilt, langgraph\n",
            "Successfully installed langgraph-0.4.7 langgraph-checkpoint-2.0.26 langgraph-prebuilt-0.2.2 langgraph-sdk-0.1.70 ormsgpack-1.10.0\n"
          ]
        }
      ]
    },
    {
      "cell_type": "code",
      "source": [
        "pip install ipython"
      ],
      "metadata": {
        "colab": {
          "base_uri": "https://localhost:8080/"
        },
        "id": "xZx9gYAgsieN",
        "outputId": "758d80db-b0ef-4a72-9a61-040a598b527f"
      },
      "execution_count": 2,
      "outputs": [
        {
          "output_type": "stream",
          "name": "stdout",
          "text": [
            "Requirement already satisfied: ipython in /usr/local/lib/python3.11/dist-packages (7.34.0)\n",
            "Requirement already satisfied: setuptools>=18.5 in /usr/local/lib/python3.11/dist-packages (from ipython) (75.2.0)\n",
            "Collecting jedi>=0.16 (from ipython)\n",
            "  Downloading jedi-0.19.2-py2.py3-none-any.whl.metadata (22 kB)\n",
            "Requirement already satisfied: decorator in /usr/local/lib/python3.11/dist-packages (from ipython) (4.4.2)\n",
            "Requirement already satisfied: pickleshare in /usr/local/lib/python3.11/dist-packages (from ipython) (0.7.5)\n",
            "Requirement already satisfied: traitlets>=4.2 in /usr/local/lib/python3.11/dist-packages (from ipython) (5.7.1)\n",
            "Requirement already satisfied: prompt-toolkit!=3.0.0,!=3.0.1,<3.1.0,>=2.0.0 in /usr/local/lib/python3.11/dist-packages (from ipython) (3.0.51)\n",
            "Requirement already satisfied: pygments in /usr/local/lib/python3.11/dist-packages (from ipython) (2.19.1)\n",
            "Requirement already satisfied: backcall in /usr/local/lib/python3.11/dist-packages (from ipython) (0.2.0)\n",
            "Requirement already satisfied: matplotlib-inline in /usr/local/lib/python3.11/dist-packages (from ipython) (0.1.7)\n",
            "Requirement already satisfied: pexpect>4.3 in /usr/local/lib/python3.11/dist-packages (from ipython) (4.9.0)\n",
            "Requirement already satisfied: parso<0.9.0,>=0.8.4 in /usr/local/lib/python3.11/dist-packages (from jedi>=0.16->ipython) (0.8.4)\n",
            "Requirement already satisfied: ptyprocess>=0.5 in /usr/local/lib/python3.11/dist-packages (from pexpect>4.3->ipython) (0.7.0)\n",
            "Requirement already satisfied: wcwidth in /usr/local/lib/python3.11/dist-packages (from prompt-toolkit!=3.0.0,!=3.0.1,<3.1.0,>=2.0.0->ipython) (0.2.13)\n",
            "Downloading jedi-0.19.2-py2.py3-none-any.whl (1.6 MB)\n",
            "\u001b[2K   \u001b[90m━━━━━━━━━━━━━━━━━━━━━━━━━━━━━━━━━━━━━━━━\u001b[0m \u001b[32m1.6/1.6 MB\u001b[0m \u001b[31m18.4 MB/s\u001b[0m eta \u001b[36m0:00:00\u001b[0m\n",
            "\u001b[?25hInstalling collected packages: jedi\n",
            "Successfully installed jedi-0.19.2\n"
          ]
        }
      ]
    },
    {
      "cell_type": "code",
      "execution_count": 44,
      "metadata": {
        "id": "vlC9uJ2ymMNa"
      },
      "outputs": [],
      "source": [
        "from typing import Dict , TypedDict , List , Annotated\n",
        "from langgraph.graph import StateGraph , START , END\n",
        "from langgraph.channels.base import BaseChannel"
      ]
    },
    {
      "cell_type": "code",
      "source": [
        "# build AI Agent State\n",
        "class AgentState(TypedDict) : # our state schema\n",
        "  message : str\n",
        "  name : str\n",
        "  values : List[int]\n",
        "\n",
        "def greeting_node(state : AgentState) -> AgentState :\n",
        "  \"\"\"Simple Node that adds a greeting message to the state \"\"\"\n",
        "  state[\"message\"] = \"hey \" + state[\"message\"] + \" how is your day going ?\"\n",
        "  return state\n",
        "\n",
        "def learning_graduate(state : AgentState) -> AgentState :\n",
        "  state[\"message\"] = f\"{state['name']} , you are doing an amazing job learning LangGraph!\"\n",
        "  return state\n",
        "\n",
        "def process_values(state : AgentState) -> AgentState :\n",
        "  print(state)\n",
        "  state[\"message\"] = f\"Hello {state['name']} your values is {sum(state['values'])}\"\n",
        "  print(state)\n",
        "  return state\n"
      ],
      "metadata": {
        "id": "DxvgN-Bzm5z-"
      },
      "execution_count": null,
      "outputs": []
    },
    {
      "cell_type": "code",
      "source": [
        "class AgentState(TypedDict) :\n",
        "  values : List[int]\n",
        "  operation : str\n",
        "  result : int\n",
        "\n",
        "def result_values(state : AgentState) -> AgentState :\n",
        "  if state[\"operation\"] == \"sum\" :\n",
        "    state[\"result\"] = sum(state[\"values\"])\n",
        "  elif state[\"operation\"] == \"average\" :\n",
        "    state[\"result\"] = sum(state[\"values\"]) / len(state[\"values\"])\n",
        "  elif state[\"operation\"] == \"multiple\" :\n",
        "    state[\"result\"] = 1\n",
        "    for value in state[\"values\"] :\n",
        "      state[\"result\"] *= value\n",
        "\n",
        "  return state"
      ],
      "metadata": {
        "id": "9W7w3pLhTODC"
      },
      "execution_count": null,
      "outputs": []
    },
    {
      "cell_type": "code",
      "source": [
        "graph = StateGraph(AgentState)"
      ],
      "metadata": {
        "id": "LQmSzVJzofo2"
      },
      "execution_count": null,
      "outputs": []
    },
    {
      "cell_type": "code",
      "source": [
        "graph.add_node(\"learning_graduate\" , learning_graduate)\n",
        "graph.add_node(\"greeter\" , greeting_node)\n",
        "graph.add_node(\"process_values\" , process_values)"
      ],
      "metadata": {
        "colab": {
          "base_uri": "https://localhost:8080/"
        },
        "id": "cCdOaEWho_xS",
        "outputId": "59ecab3b-1238-44c8-cbf8-6764e68f4331"
      },
      "execution_count": null,
      "outputs": [
        {
          "output_type": "execute_result",
          "data": {
            "text/plain": [
              "<langgraph.graph.state.StateGraph at 0x7f10d58c2b90>"
            ]
          },
          "metadata": {},
          "execution_count": 12
        }
      ]
    },
    {
      "cell_type": "code",
      "source": [
        "graph.add_node(\"math\" , result_values)"
      ],
      "metadata": {
        "colab": {
          "base_uri": "https://localhost:8080/"
        },
        "id": "ZVpReIs3Xd6D",
        "outputId": "30b83c71-12fa-4397-f52d-09423989fb6a"
      },
      "execution_count": null,
      "outputs": [
        {
          "output_type": "execute_result",
          "data": {
            "text/plain": [
              "<langgraph.graph.state.StateGraph at 0x7f10d58b8c10>"
            ]
          },
          "metadata": {},
          "execution_count": 35
        }
      ]
    },
    {
      "cell_type": "code",
      "source": [
        "graph.set_entry_point(\"learning_graduate\")"
      ],
      "metadata": {
        "colab": {
          "base_uri": "https://localhost:8080/"
        },
        "id": "4fU1EXpxyEiY",
        "outputId": "92219947-6c12-40d5-ddf5-2ac5b5c8eb55"
      },
      "execution_count": null,
      "outputs": [
        {
          "output_type": "execute_result",
          "data": {
            "text/plain": [
              "<langgraph.graph.state.StateGraph at 0x7f10d58c2b90>"
            ]
          },
          "metadata": {},
          "execution_count": 13
        }
      ]
    },
    {
      "cell_type": "code",
      "source": [
        "graph.set_entry_point(\"math\")\n",
        "graph.set_finish_point(\"math\")"
      ],
      "metadata": {
        "colab": {
          "base_uri": "https://localhost:8080/"
        },
        "id": "Bf2f6vSFSLSV",
        "outputId": "cc16b1a4-dba1-4c11-fddb-796cad8ede88"
      },
      "execution_count": null,
      "outputs": [
        {
          "output_type": "execute_result",
          "data": {
            "text/plain": [
              "<langgraph.graph.state.StateGraph at 0x7f10d58b8c10>"
            ]
          },
          "metadata": {},
          "execution_count": 36
        }
      ]
    },
    {
      "cell_type": "code",
      "source": [
        "graph.add_edge(\"learning_graduate\", \"greeter\")\n",
        "graph.add_edge(\"greeter\", \"process_values\")"
      ],
      "metadata": {
        "colab": {
          "base_uri": "https://localhost:8080/"
        },
        "id": "db6KuW7dyLnJ",
        "outputId": "2806bfb5-fa86-4e3d-b2cf-bffef31a791d"
      },
      "execution_count": null,
      "outputs": [
        {
          "output_type": "execute_result",
          "data": {
            "text/plain": [
              "<langgraph.graph.state.StateGraph at 0x7f10d58c2b90>"
            ]
          },
          "metadata": {},
          "execution_count": 16
        }
      ]
    },
    {
      "cell_type": "code",
      "source": [
        "graph.set_finish_point(\"process_values\")"
      ],
      "metadata": {
        "colab": {
          "base_uri": "https://localhost:8080/"
        },
        "id": "6_Dg8E17yPc8",
        "outputId": "10a3e88c-dd11-4395-de80-817dbdd74fab"
      },
      "execution_count": null,
      "outputs": [
        {
          "output_type": "execute_result",
          "data": {
            "text/plain": [
              "<langgraph.graph.state.StateGraph at 0x7f10d58c2b90>"
            ]
          },
          "metadata": {},
          "execution_count": 17
        }
      ]
    },
    {
      "cell_type": "code",
      "source": [
        "app = graph.compile()"
      ],
      "metadata": {
        "id": "gr07K37up7fH"
      },
      "execution_count": null,
      "outputs": []
    },
    {
      "cell_type": "markdown",
      "source": [],
      "metadata": {
        "id": "VUS_X9_9yD-h"
      }
    },
    {
      "cell_type": "code",
      "source": [
        "from IPython.display import Image ,  display\n",
        "display(Image(app.get_graph().draw_mermaid_png()))"
      ],
      "metadata": {
        "colab": {
          "base_uri": "https://localhost:8080/",
          "height": 449
        },
        "id": "0VN63rGUsnX7",
        "outputId": "d1956747-db72-43ee-ab29-27ddf4397e8a"
      },
      "execution_count": null,
      "outputs": [
        {
          "output_type": "display_data",
          "data": {
            "image/png": "[encoded data removed]",
            "text/plain": [
              "<IPython.core.display.Image object>"
            ]
          },
          "metadata": {}
        }
      ]
    },
    {
      "cell_type": "code",
      "source": [
        "result = app.invoke({\"values\" : [1,2,3,4], \"operation\" : \"multiple\"})"
      ],
      "metadata": {
        "id": "5cXS1u4MtTul"
      },
      "execution_count": null,
      "outputs": []
    },
    {
      "cell_type": "code",
      "source": [
        "print(result)"
      ],
      "metadata": {
        "colab": {
          "base_uri": "https://localhost:8080/"
        },
        "id": "bVlDdilktatB",
        "outputId": "3e1b9a9a-bc7d-4df2-c4f4-9e4f8d4e43ab"
      },
      "execution_count": null,
      "outputs": [
        {
          "output_type": "stream",
          "name": "stdout",
          "text": [
            "{'values': [1, 2, 3, 4], 'operation': 'multiple', 'result': 24}\n"
          ]
        }
      ]
    },
    {
      "cell_type": "code",
      "source": [
        "class AgentState(TypedDict) :\n",
        "  name : str\n",
        "  age : int\n",
        "  skills : List[str]\n",
        "  result : str\n"
      ],
      "metadata": {
        "id": "-XP-7zvL86HG"
      },
      "execution_count": null,
      "outputs": []
    },
    {
      "cell_type": "code",
      "source": [
        "def first_node(state : AgentState) -> AgentState :\n",
        "  state[\"result\"] = f\"{state['name']} , welcome to the system !\"\n",
        "  return state\n",
        "\n",
        "def second_node(state : AgentState) -> AgentState :\n",
        "  print(state)\n",
        "  state[\"result\"] = f\"{state['result']} You are {state['age']} years old ! \"\n",
        "  print(state)\n",
        "  return state\n",
        "\n",
        "def third_node(state : AgentState) -> AgentState :\n",
        "  skills_string = \", \".join(state['skills'])\n",
        "  state[\"result\"] = f\"{state['result']} You have skills in {skills_string}\"\n",
        "  return state"
      ],
      "metadata": {
        "id": "OvAXJEqO9K-J"
      },
      "execution_count": null,
      "outputs": []
    },
    {
      "cell_type": "code",
      "source": [
        "graph = StateGraph(AgentState)"
      ],
      "metadata": {
        "id": "8Z5nP6dV-jOZ"
      },
      "execution_count": null,
      "outputs": []
    },
    {
      "cell_type": "code",
      "source": [
        "graph.add_node(\"first\" , first_node)\n",
        "graph.add_node(\"second\" , second_node)\n",
        "graph.add_node(\"third\" , third_node)"
      ],
      "metadata": {
        "colab": {
          "base_uri": "https://localhost:8080/"
        },
        "id": "Wy-rbg01-kBA",
        "outputId": "69d32724-65a3-4c43-8bed-cd8c125d1650"
      },
      "execution_count": null,
      "outputs": [
        {
          "output_type": "execute_result",
          "data": {
            "text/plain": [
              "<langgraph.graph.state.StateGraph at 0x7dd285ad73d0>"
            ]
          },
          "metadata": {},
          "execution_count": 42
        }
      ]
    },
    {
      "cell_type": "code",
      "source": [
        "graph.add_edge(\"first\" , \"second\")\n",
        "graph.add_edge(\"second\" , \"third\")"
      ],
      "metadata": {
        "colab": {
          "base_uri": "https://localhost:8080/"
        },
        "id": "6jIVXh2K-qYA",
        "outputId": "e6d2c869-d808-4d41-98e4-e264199cf9e1"
      },
      "execution_count": null,
      "outputs": [
        {
          "output_type": "execute_result",
          "data": {
            "text/plain": [
              "<langgraph.graph.state.StateGraph at 0x7dd285ad73d0>"
            ]
          },
          "metadata": {},
          "execution_count": 43
        }
      ]
    },
    {
      "cell_type": "code",
      "source": [
        "graph.set_entry_point(\"first\")\n",
        "graph.set_finish_point(\"third\")"
      ],
      "metadata": {
        "colab": {
          "base_uri": "https://localhost:8080/"
        },
        "id": "ovb6D1na-tAN",
        "outputId": "ba02f880-e6e1-4ad9-fbf9-9976dc2ef9fd"
      },
      "execution_count": null,
      "outputs": [
        {
          "output_type": "execute_result",
          "data": {
            "text/plain": [
              "<langgraph.graph.state.StateGraph at 0x7dd285ad73d0>"
            ]
          },
          "metadata": {},
          "execution_count": 44
        }
      ]
    },
    {
      "cell_type": "code",
      "source": [
        "app = graph.compile()"
      ],
      "metadata": {
        "id": "9pHFQvFo-v9f"
      },
      "execution_count": null,
      "outputs": []
    },
    {
      "cell_type": "code",
      "source": [
        "from IPython.display import Image ,  display\n",
        "display(Image(app.get_graph().draw_mermaid_png()))"
      ],
      "metadata": {
        "colab": {
          "base_uri": "https://localhost:8080/",
          "height": 449
        },
        "id": "rC9wXKdQ-zrn",
        "outputId": "816fdf8a-467b-4983-9fba-bfb555cf4871"
      },
      "execution_count": null,
      "outputs": [
        {
          "output_type": "display_data",
          "data": {
            "image/png": "[encoded data removed]",
            "text/plain": [
              "<IPython.core.display.Image object>"
            ]
          },
          "metadata": {}
        }
      ]
    },
    {
      "cell_type": "code",
      "source": [
        "result = app.invoke({'name' : 'Fransiskus' , 'age' : 21 , 'skills' : ['python' , 'java' , 'golang']})"
      ],
      "metadata": {
        "colab": {
          "base_uri": "https://localhost:8080/"
        },
        "id": "YWC_z6XT-3_h",
        "outputId": "1e4b4c13-3aac-4009-b87f-5ae911c38c63"
      },
      "execution_count": null,
      "outputs": [
        {
          "output_type": "stream",
          "name": "stdout",
          "text": [
            "{'name': 'Fransiskus', 'age': 21, 'skills': ['python', 'java', 'golang'], 'result': 'Fransiskus , welcome to the system !'}\n",
            "{'name': 'Fransiskus', 'age': 21, 'skills': ['python', 'java', 'golang'], 'result': 'Fransiskus , welcome to the system ! You are 21 years old ! '}\n"
          ]
        }
      ]
    },
    {
      "cell_type": "code",
      "source": [
        "print(result)"
      ],
      "metadata": {
        "colab": {
          "base_uri": "https://localhost:8080/"
        },
        "id": "oaXQOB9O_pRP",
        "outputId": "06826b2e-8ed0-4efe-a4a1-86c2e0a65bae"
      },
      "execution_count": null,
      "outputs": [
        {
          "output_type": "stream",
          "name": "stdout",
          "text": [
            "{'name': 'Fransiskus', 'age': 21, 'skills': ['python', 'java', 'golang'], 'result': 'Fransiskus , welcome to the system ! You are 21 years old !  You have skills in python, java, golang'}\n"
          ]
        }
      ]
    },
    {
      "cell_type": "code",
      "source": [
        "class AgentState(TypedDict) :\n",
        "  number1 : int\n",
        "  number2 : int\n",
        "  final_number : float\n",
        "  operation : str\n",
        "\n",
        "def adder(state : AgentState) -> AgentState :\n",
        "  state[\"final_number\"] = state[\"number1\"] + state[\"number2\"]\n",
        "  return state\n",
        "\n",
        "def subtractor(state : AgentState) -> AgentState :\n",
        "  state[\"final_number\"] = state[\"number1\"] - state[\"number2\"]\n",
        "  return state\n",
        "\n",
        "def decide_next_node(state : AgentState) -> AgentState :\n",
        "  if state[\"operation\"] == \"+\" :\n",
        "    return \"addition_operation\"\n",
        "  elif state[\"operation\"] == \"-\" :\n",
        "    return \"substraction_operation\"\n",
        "  else :\n",
        "    return"
      ],
      "metadata": {
        "id": "RQQfBub0EAdf"
      },
      "execution_count": null,
      "outputs": []
    },
    {
      "cell_type": "code",
      "source": [
        "graph = StateGraph(AgentState)\n",
        "\n",
        "graph.add_node(\"add_node\" , adder)\n",
        "graph.add_node(\"substract_node\" , subtractor)\n",
        "graph.add_node(\"router\" , lambda state:state )\n",
        "\n",
        "graph.add_edge(START , \"router\")\n",
        "\n",
        "graph.add_conditional_edges(\n",
        "    \"router\"  ,\n",
        "    decide_next_node ,\n",
        "    {\n",
        "        \"addition_operation\" : \"add_node\",\n",
        "        \"substraction_operation\" : \"substract_node\"\n",
        "    }\n",
        ")\n",
        "\n",
        "graph.add_edge(\"add_node\" , END)\n",
        "graph.add_edge(\"substract_node\" , END)"
      ],
      "metadata": {
        "colab": {
          "base_uri": "https://localhost:8080/"
        },
        "id": "tsb4i6B3FHcp",
        "outputId": "be588fd5-5a3d-4691-bbf2-1f4ef3f68517"
      },
      "execution_count": null,
      "outputs": [
        {
          "output_type": "execute_result",
          "data": {
            "text/plain": [
              "<langgraph.graph.state.StateGraph at 0x7dd285add5d0>"
            ]
          },
          "metadata": {},
          "execution_count": 68
        }
      ]
    },
    {
      "cell_type": "code",
      "source": [
        "app = graph.compile()"
      ],
      "metadata": {
        "id": "5G0ukbmZGqac",
        "colab": {
          "base_uri": "https://localhost:8080/",
          "height": 141
        },
        "outputId": "2e8fc690-a61c-4e22-cba6-c0778798a6a8"
      },
      "execution_count": null,
      "outputs": [
        {
          "output_type": "error",
          "ename": "NameError",
          "evalue": "name 'graph' is not defined",
          "traceback": [
            "\u001b[0;31m---------------------------------------------------------------------------\u001b[0m",
            "\u001b[0;31mNameError\u001b[0m                                 Traceback (most recent call last)",
            "\u001b[0;32m<ipython-input-10-52be0f6489d9>\u001b[0m in \u001b[0;36m<cell line: 0>\u001b[0;34m()\u001b[0m\n\u001b[0;32m----> 1\u001b[0;31m \u001b[0mapp\u001b[0m \u001b[0;34m=\u001b[0m \u001b[0mgraph\u001b[0m\u001b[0;34m.\u001b[0m\u001b[0mcompile\u001b[0m\u001b[0;34m(\u001b[0m\u001b[0;34m)\u001b[0m\u001b[0;34m\u001b[0m\u001b[0;34m\u001b[0m\u001b[0m\n\u001b[0m",
            "\u001b[0;31mNameError\u001b[0m: name 'graph' is not defined"
          ]
        }
      ]
    },
    {
      "cell_type": "code",
      "source": [
        "from IPython.display import Image ,  display\n",
        "display(Image(app.get_graph().draw_mermaid_png()))"
      ],
      "metadata": {
        "colab": {
          "base_uri": "https://localhost:8080/",
          "height": 374
        },
        "id": "oM59LZIGGoyj",
        "outputId": "dc85f781-6066-4cc4-c998-79fcb1f39afa"
      },
      "execution_count": null,
      "outputs": [
        {
          "output_type": "display_data",
          "data": {
            "image/png": "[encoded data removed]",
            "text/plain": [
              "<IPython.core.display.Image object>"
            ]
          },
          "metadata": {}
        }
      ]
    },
    {
      "cell_type": "code",
      "source": [
        "initial_state1 = AgentState(number1 = 10 , number2 = 5 , operation = \"+\")\n",
        "initial_state2 = AgentState(number1 = 10 , number2 = 5 , operation = \"-\")\n",
        "\n",
        "print(app.invoke(initial_state1))\n"
      ],
      "metadata": {
        "colab": {
          "base_uri": "https://localhost:8080/"
        },
        "id": "3_A8430XHb-s",
        "outputId": "944f3182-0968-4d22-8dca-7d2298a289b0"
      },
      "execution_count": null,
      "outputs": [
        {
          "output_type": "stream",
          "name": "stdout",
          "text": [
            "{'number1': 10, 'number2': 5, 'final_number': 15, 'operation': '+'}\n"
          ]
        }
      ]
    },
    {
      "cell_type": "code",
      "source": [
        "class AgentState(TypedDict) :\n",
        "  number1 : int\n",
        "  number2 : int\n",
        "  operation1 : str\n",
        "  number3 : int\n",
        "  number4 : int\n",
        "  operation2 : str\n",
        "  final_number1 : float\n",
        "  final_number2 : float\n",
        "\n",
        "def add_node(state : AgentState) -> AgentState :\n",
        "    state[\"final_number1\"] = state[\"number1\"] + state[\"number2\"]\n",
        "    return state\n",
        "\n",
        "def substract_node(state : AgentState) -> AgentState :\n",
        "    state[\"final_number1\"] = state[\"number1\"] - state[\"number2\"]\n",
        "    return state\n",
        "\n",
        "def add_node_2(state : AgentState) -> AgentState :\n",
        "    state[\"final_number2\"] = state[\"number3\"] + state[\"number4\"]\n",
        "    return state\n",
        "\n",
        "def substract_node_2(state : AgentState) -> AgentState :\n",
        "    state[\"final_number2\"] = state[\"number3\"] - state[\"number4\"]\n",
        "    return state\n",
        "\n",
        "def decide_next_node_1(state : AgentState) -> AgentState :\n",
        "    if(state[\"operation1\"] == \"+\") :\n",
        "      return \"addition_operation\"\n",
        "    elif(state[\"operation1\"] == \"-\" ) :\n",
        "      return \"substraction_operation\"\n",
        "    else  :\n",
        "      return\n",
        "\n",
        "def decide_next_node_2(state : AgentState) -> AgentState :\n",
        "    if(state[\"operation2\"] == \"+\") :\n",
        "      return \"addition_operation\"\n",
        "    elif(state[\"operation2\"] == \"-\") :\n",
        "      return \"substraction_operation\"\n",
        "    else  :\n",
        "      return"
      ],
      "metadata": {
        "id": "q6-7eSJkKDaZ"
      },
      "execution_count": 7,
      "outputs": []
    },
    {
      "cell_type": "code",
      "source": [
        "graph = StateGraph(AgentState)\n",
        "\n",
        "graph.add_node(\"add_node1\" , add_node)\n",
        "graph.add_node(\"substract_node1\" , substract_node)\n",
        "graph.add_node(\"add_node2\" , add_node_2)\n",
        "graph.add_node(\"substract_node2\" , substract_node_2)\n",
        "\n",
        "graph.add_node(\"router\" , lambda state:state )\n",
        "\n",
        "graph.add_edge(START , \"router\")\n",
        "\n",
        "graph.add_conditional_edges(\n",
        "    \"router\"  ,\n",
        "    decide_next_node_1 ,\n",
        "    {\n",
        "        \"addition_operation\" : \"add_node1\",\n",
        "        \"substraction_operation\" : \"substract_node1\"\n",
        "    }\n",
        ")\n",
        "\n",
        "\n",
        "graph.add_edge(\"add_node1\", \"router2\")\n",
        "graph.add_edge(\"substract_node1\", \"router2\")\n",
        "graph.add_node(\"router2\" , lambda state:state )\n",
        "\n",
        "graph.add_conditional_edges(\n",
        "    \"router2\"  ,\n",
        "    decide_next_node_2 ,\n",
        "    {\n",
        "        \"addition_operation\" : \"add_node2\",\n",
        "        \"substraction_operation\" : \"substract_node2\"\n",
        "    }\n",
        ")\n",
        "\n",
        "graph.add_edge(\"add_node2\", END)\n",
        "graph.add_edge(\"substract_node2\", END)\n"
      ],
      "metadata": {
        "colab": {
          "base_uri": "https://localhost:8080/"
        },
        "id": "Og4t05OjXZyI",
        "outputId": "9b192455-e025-4e29-f4b9-b5e992b88eda"
      },
      "execution_count": 9,
      "outputs": [
        {
          "output_type": "execute_result",
          "data": {
            "text/plain": [
              "<langgraph.graph.state.StateGraph at 0x7c8b4b3a4350>"
            ]
          },
          "metadata": {},
          "execution_count": 9
        }
      ]
    },
    {
      "cell_type": "code",
      "source": [
        "app = graph.compile()"
      ],
      "metadata": {
        "id": "5oKWjhtWY45Q"
      },
      "execution_count": 10,
      "outputs": []
    },
    {
      "cell_type": "code",
      "source": [
        "from IPython.display import Image ,  display\n",
        "display(Image(app.get_graph().draw_mermaid_png()))"
      ],
      "metadata": {
        "colab": {
          "base_uri": "https://localhost:8080/",
          "height": 596
        },
        "id": "UVFR9jkNZX-L",
        "outputId": "6652d247-503a-4e58-aa31-da08b892400c"
      },
      "execution_count": 11,
      "outputs": [
        {
          "output_type": "display_data",
          "data": {
            "image/png": "[encoded data removed]",
            "text/plain": [
              "<IPython.core.display.Image object>"
            ]
          },
          "metadata": {}
        }
      ]
    },
    {
      "cell_type": "code",
      "source": [
        "initial_state1 = AgentState(number1 = 12 , number2 = 4 , number3= 30 , number4 = 5 , operation1=\"+\" , operation2=\"-\")\n",
        "print(app.invoke(initial_state1))"
      ],
      "metadata": {
        "colab": {
          "base_uri": "https://localhost:8080/"
        },
        "id": "zX4nCNzsabuT",
        "outputId": "c2c055d8-698a-4144-e9f6-19da08ea636a"
      },
      "execution_count": null,
      "outputs": [
        {
          "output_type": "stream",
          "name": "stdout",
          "text": [
            "{'number1': 12, 'number2': 4, 'operation1': '+', 'number3': 30, 'number4': 5, 'operation2': '-', 'final_number1': 16, 'final_number2': 25}\n"
          ]
        }
      ]
    },
    {
      "cell_type": "code",
      "source": [
        "import random"
      ],
      "metadata": {
        "id": "vMEmXWish4nn"
      },
      "execution_count": null,
      "outputs": []
    },
    {
      "cell_type": "code",
      "source": [
        "class AgentState(TypedDict) :\n",
        "  name : str\n",
        "  counter : int\n",
        "  number : List[int]\n",
        "\n",
        "def greeting_node(state : AgentState) -> AgentState :\n",
        "  state[\"name\"] = f\"hi there , {state['name']}\"\n",
        "  return state\n",
        "\n",
        "def random_node(state : AgentState) -> AgentState :\n",
        "  state['number'].append(random.randint(0,10))\n",
        "  state['counter'] += 1\n",
        "  return state\n",
        "\n",
        "def should_continue(state : AgentState) -> AgentState :\n",
        "  if(state['counter'] < 5) :\n",
        "    print('entering loop' , state['counter'])\n",
        "    return 'loop'\n",
        "  else :\n",
        "    return 'exit'\n"
      ],
      "metadata": {
        "id": "OJa4c5xCgtHf"
      },
      "execution_count": null,
      "outputs": []
    },
    {
      "cell_type": "code",
      "source": [
        "graph = StateGraph(AgentState)\n",
        "\n",
        "graph.add_node('greeting' , greeting_node)\n",
        "graph.add_node('random' , random_node)\n",
        "graph.add_edge('greeting' , 'random')\n",
        "\n",
        "graph.add_conditional_edges(\n",
        "    'random' ,\n",
        "    should_continue ,\n",
        "    {\n",
        "        'loop' : 'random' ,\n",
        "        'exit' : END\n",
        "    }\n",
        ")\n",
        "\n",
        "graph.set_entry_point('greeting')\n"
      ],
      "metadata": {
        "colab": {
          "base_uri": "https://localhost:8080/"
        },
        "id": "zTUfsiv9iyyj",
        "outputId": "a19f66f4-3385-4513-cce7-130532353f78"
      },
      "execution_count": null,
      "outputs": [
        {
          "output_type": "execute_result",
          "data": {
            "text/plain": [
              "<langgraph.graph.state.StateGraph at 0x7bb12e80bb90>"
            ]
          },
          "metadata": {},
          "execution_count": 59
        }
      ]
    },
    {
      "cell_type": "code",
      "source": [
        "app = graph.compile()"
      ],
      "metadata": {
        "id": "lqSFk-j_kIfn"
      },
      "execution_count": null,
      "outputs": []
    },
    {
      "cell_type": "code",
      "source": [
        "from IPython.display import Image ,  display\n",
        "display(Image(app.get_graph().draw_mermaid_png()))"
      ],
      "metadata": {
        "colab": {
          "base_uri": "https://localhost:8080/",
          "height": 448
        },
        "id": "wwQxQhikkMW3",
        "outputId": "f965a0db-7298-4849-b384-50deecd604db"
      },
      "execution_count": null,
      "outputs": [
        {
          "output_type": "display_data",
          "data": {
            "image/png": "[encoded data removed]",
            "text/plain": [
              "<IPython.core.display.Image object>"
            ]
          },
          "metadata": {}
        }
      ]
    },
    {
      "cell_type": "code",
      "source": [
        "result = app.invoke({\"name\" : \"Fransiskus\" , \"counter\" : -1 , \"number\" : []})\n",
        "print(result)"
      ],
      "metadata": {
        "colab": {
          "base_uri": "https://localhost:8080/"
        },
        "id": "bFI62R29k3sb",
        "outputId": "456a2120-7c03-4aa6-f14a-3c138aff7c36"
      },
      "execution_count": null,
      "outputs": [
        {
          "output_type": "stream",
          "name": "stdout",
          "text": [
            "entering loop 0\n",
            "entering loop 1\n",
            "entering loop 2\n",
            "entering loop 3\n",
            "entering loop 4\n",
            "{'name': 'hi there , Fransiskus', 'counter': 5, 'number': [8, 2, 5, 10, 8, 1]}\n"
          ]
        }
      ]
    },
    {
      "cell_type": "code",
      "source": [
        "import random"
      ],
      "metadata": {
        "id": "EMQfXKhJFuia"
      },
      "execution_count": 4,
      "outputs": []
    },
    {
      "cell_type": "code",
      "source": [
        "class AgentState(TypedDict) :\n",
        "  true_number: Annotated[int, \"readonly\"]\n",
        "  guess_number : int\n",
        "  floor_guess : int\n",
        "  ceil_guess : int\n",
        "  name : str\n",
        "  counter : int\n",
        "\n",
        "def set_guess_number(state : AgentState) -> AgentState :\n",
        "  state['guess_number'] = random.randint(state['floor_guess'] , state['ceil_guess'])\n",
        "  return state\n",
        "\n",
        "def greeting_node(state : AgentState) -> AgentState :\n",
        "  state['name'] = f\"hello {state['name']} lets play the game\"\n",
        "  return state\n",
        "\n",
        "def add_floor_guess_counter(state : AgentState) -> AgentState :\n",
        "  print('Angka Terlalu kecil ')\n",
        "  state['floor_guess'] = state[\"guess_number\"] + 1\n",
        "  print(f\"floor number now {state['floor_guess']}\")\n",
        "  state['counter'] +=1\n",
        "  return state\n",
        "\n",
        "def add_ceil_guess_counter(state : AgentState) -> AgentState :\n",
        "  print('Angka Terlalu Besar ')\n",
        "  state['ceil_guess'] = state[\"guess_number\"] - 1\n",
        "  print(f\"ceil number now {state['ceil_guess']}\")\n",
        "  state['counter'] +=1\n",
        "  return state\n",
        "\n",
        "def random_guess(state : AgentState) -> AgentState :\n",
        "  state['guess_number'] = random.randint(state['floor_guess'] , state['ceil_guess'])\n",
        "  print(f\"angka tebakan {state['guess_number']}\")\n",
        "  return state\n",
        "\n",
        "def route_logic(state: AgentState) -> str:\n",
        "    if state['guess_number'] == state['true_number']:\n",
        "        print(f\"Tebakan Benar total tebakan {state['counter']}\")\n",
        "        return 'exit'\n",
        "    elif state['guess_number'] > state['true_number']:\n",
        "        # print(\"Angka Terlalu Besar\")\n",
        "        return 'add_ceil_guess'\n",
        "    elif state['guess_number'] < state['true_number']:\n",
        "        # print(\"Angka Terlalu kecil\")\n",
        "        return 'add_floor_guess'\n"
      ],
      "metadata": {
        "id": "dKQib4PQDg2i"
      },
      "execution_count": 64,
      "outputs": []
    },
    {
      "cell_type": "code",
      "source": [
        "graph = StateGraph(AgentState)\n",
        "\n",
        "graph.add_node('greeting', greeting_node)\n",
        "graph.add_node('guess', random_guess)\n",
        "graph.add_node('add_floor_guess', add_floor_guess_counter)\n",
        "graph.add_node('add_ceil_guess', add_ceil_guess_counter)\n",
        "\n",
        "graph.add_edge('greeting', 'guess')\n",
        "\n",
        "graph.add_conditional_edges(\n",
        "    'guess',\n",
        "    route_logic,\n",
        "    {\n",
        "        'exit': END,\n",
        "        'add_floor_guess': 'add_floor_guess',\n",
        "        'add_ceil_guess': 'add_ceil_guess'\n",
        "    }\n",
        ")\n",
        "\n",
        "\n",
        "graph.add_edge('add_floor_guess', 'guess')\n",
        "graph.add_edge('add_ceil_guess', 'guess')\n",
        "\n",
        "graph.set_entry_point('greeting')"
      ],
      "metadata": {
        "colab": {
          "base_uri": "https://localhost:8080/"
        },
        "id": "aTiJANgsGsi2",
        "outputId": "fee30955-9a1d-4cee-96b1-3a71bdad6eba"
      },
      "execution_count": 65,
      "outputs": [
        {
          "output_type": "execute_result",
          "data": {
            "text/plain": [
              "<langgraph.graph.state.StateGraph at 0x7c8b8c13ab50>"
            ]
          },
          "metadata": {},
          "execution_count": 65
        }
      ]
    },
    {
      "cell_type": "code",
      "source": [
        "app = graph.compile()"
      ],
      "metadata": {
        "id": "y4viTa0NL4zG"
      },
      "execution_count": 66,
      "outputs": []
    },
    {
      "cell_type": "code",
      "source": [
        "from IPython.display import Image ,  display\n",
        "display(Image(app.get_graph().draw_mermaid_png()))"
      ],
      "metadata": {
        "colab": {
          "base_uri": "https://localhost:8080/",
          "height": 389
        },
        "id": "bPHXAeW5MDcP",
        "outputId": "6f806cbe-ac95-4992-a061-95ef62b9fd88"
      },
      "execution_count": 67,
      "outputs": [
        {
          "output_type": "display_data",
          "data": {
            "image/png": "[encoded data removed]",
            "text/plain": [
              "<IPython.core.display.Image object>"
            ]
          },
          "metadata": {}
        }
      ]
    },
    {
      "cell_type": "code",
      "source": [
        "result = app.invoke({'name' : 'Fransiskus' , 'true_number' : 10 , 'floor_guess' : 0 , 'ceil_guess' : 20 , 'counter' : 0})\n",
        "print(result)"
      ],
      "metadata": {
        "colab": {
          "base_uri": "https://localhost:8080/"
        },
        "id": "0_4CJNYpMNUL",
        "outputId": "cbf654f4-f66d-453c-880d-f24c2c9243dc"
      },
      "execution_count": 74,
      "outputs": [
        {
          "output_type": "stream",
          "name": "stdout",
          "text": [
            "angka tebakan 6\n",
            "Angka Terlalu kecil \n",
            "floor number now 7\n",
            "angka tebakan 9\n",
            "Angka Terlalu kecil \n",
            "floor number now 10\n",
            "angka tebakan 20\n",
            "Angka Terlalu Besar \n",
            "ceil number now 19\n",
            "angka tebakan 13\n",
            "Angka Terlalu Besar \n",
            "ceil number now 12\n",
            "angka tebakan 12\n",
            "Angka Terlalu Besar \n",
            "ceil number now 11\n",
            "angka tebakan 10\n",
            "Tebakan Benar total tebakan 5\n",
            "{'true_number': 10, 'guess_number': 10, 'floor_guess': 10, 'ceil_guess': 11, 'name': 'hello Fransiskus lets play the game', 'counter': 5}\n"
          ]
        }
      ]
    }
  ]
}